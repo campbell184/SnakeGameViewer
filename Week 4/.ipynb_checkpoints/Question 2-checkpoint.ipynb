{
 "cells": [
  {
   "cell_type": "markdown",
   "metadata": {},
   "source": [
    "# Machine Learning Lab for Tutorial 3"
   ]
  },
  {
   "cell_type": "markdown",
   "metadata": {},
   "source": [
    "#### The file smalldigits.csv contains 1797 8x8 images of hand written digits (modified from the sklearn digits dataset). Note the data here is low resolution and has been binarised for this example. Each row of the file has 65 elements: the first 64 are 0/1 values indicating the pixel value, and the last element is the class number (0-9). To visualise the nth digit, reshape the nth row into an 8x8 matrix."
   ]
  },
  {
   "cell_type": "markdown",
   "metadata": {},
   "source": [
    "### Question 2a"
   ]
  },
  {
   "cell_type": "markdown",
   "metadata": {},
   "source": [
    "###### Train a NB classifier on a random 80% of the data, and use the remaining 20% to generate a confusion matrix showing its performance."
   ]
  },
  {
   "cell_type": "code",
   "execution_count": 86,
   "metadata": {},
   "outputs": [],
   "source": [
    "import numpy as np"
   ]
  },
  {
   "cell_type": "code",
   "execution_count": 87,
   "metadata": {},
   "outputs": [],
   "source": [
    "#Store the data in a matrix\n",
    "file = open('smalldigits.csv')\n",
    "line = file.readline()\n",
    "\n",
    "#read all the data into data list\n",
    "data = list()\n",
    "\n",
    "while(line):\n",
    "    data.append(line)\n",
    "    line = file.readline()\n",
    "    \n",
    "#print(data)"
   ]
  },
  {
   "cell_type": "code",
   "execution_count": 88,
   "metadata": {},
   "outputs": [],
   "source": [
    "#take random 80% of the data for training\n",
    "train_data = np.random.choice(data, 1438, replace = False)\n",
    "#print(train_data)\n",
    "\n",
    "\n",
    "#remaining 20% for testing\n",
    "test_data = [line for line in data if line not in train_data]\n",
    "#print(test_data)"
   ]
  },
  {
   "cell_type": "code",
   "execution_count": 89,
   "metadata": {},
   "outputs": [],
   "source": [
    "#Split the training data into x_train_data and y_train_label\n",
    "x_train_data = [line.rstrip('\\n').split(',')[:-1] for line in train_data]\n",
    "y_train_label = [line.rstrip('\\n').split(',')[-1] for line in train_data]\n",
    "\n",
    "\n",
    "\n",
    "#changing the arrays to integers\n",
    "x_train_data = np.array(x_train_data).astype(np.int32)\n",
    "y_train_label = np.array(y_train_label).astype(np.int32)\n",
    "\n",
    "\n",
    "#print('x Train data point\\n')\n",
    "#print(x_train_data)\n",
    "\n",
    "#print('\\ny train label\\n')\n",
    "#print(y_train_label)"
   ]
  },
  {
   "cell_type": "code",
   "execution_count": 90,
   "metadata": {},
   "outputs": [],
   "source": [
    "#Prior Probability of label y\n",
    "def prior_prob(y):\n",
    "    \n",
    "    number_of_y = 0\n",
    "    \n",
    "    for label in y_train_label:\n",
    "        if label == y:\n",
    "            number_of_y += 1\n",
    "            \n",
    "    return number_of_y / len(y_train_label)\n",
    "\n",
    "#print(prior_prob(7))"
   ]
  },
  {
   "cell_type": "code",
   "execution_count": 91,
   "metadata": {},
   "outputs": [],
   "source": [
    "#Conditional Probability of index given that is a label class c\n",
    "#inputs 1). index  is the feature which is the index of the column\n",
    "def con_prob(index, c):\n",
    "    \n",
    "    number_of_c, number_of_label_and_c, count = 0, 0, 0\n",
    "    \n",
    "    for vec in x_train_data:\n",
    "        \n",
    "        if y_train_label[count] == c:\n",
    "            \n",
    "            if vec[index]:\n",
    "                number_of_label_and_c += 1\n",
    "                \n",
    "            number_of_c += 1\n",
    "            \n",
    "        count += 1\n",
    "        \n",
    "        \n",
    "    return [number_of_label_and_c, number_of_c]\n",
    "\n",
    "\n",
    "\n",
    "#probability function\n",
    "#inputs 1). list l \n",
    "def prob(l):\n",
    "    probability = l[0] / l[1]\n",
    "    return probability\n",
    "\n",
    "#print(con_prob(1, 3, 7))"
   ]
  },
  {
   "cell_type": "code",
   "execution_count": 92,
   "metadata": {},
   "outputs": [],
   "source": [
    "#Store a probability table\n",
    "prob_table = list()\n",
    "\n",
    "for index in range(64):\n",
    "    prob_table.append([con_prob(index, 0), con_prob(index, 1), con_prob(index, 2), \n",
    "                       con_prob(index, 3), con_prob(index, 4), con_prob(index, 5), \n",
    "                       con_prob(index, 6), con_prob(index, 7), con_prob(index, 8), con_prob(index, 9)])\n",
    "\n",
    "#print(prob_table)\n",
    "#print()"
   ]
  },
  {
   "cell_type": "code",
   "execution_count": 93,
   "metadata": {},
   "outputs": [],
   "source": [
    "#Testing the NB Model\n",
    "#input : array data_point\n",
    "def Predicted_class(data_point):\n",
    "    \n",
    "    d = dict()\n",
    "    class_labels = np.arange(10)\n",
    "    \n",
    "    #likelihood probabilies\n",
    "    for label in class_labels:\n",
    "        d[label] = 1\n",
    "    \n",
    "    \n",
    "    #computing the probabilities\n",
    "    for i in range(len(data_point)):\n",
    "        \n",
    "        if data_point[i]:\n",
    "            \n",
    "            for label in d:\n",
    "                \n",
    "                if prob(prob_table[i][label]) == 0:\n",
    "                    \n",
    "                    prob_table[i][label][0] += 1\n",
    "                    prob_table[i][label][1] += 2\n",
    "                    d[label] *= prob(prob_table[i][label])\n",
    "                    \n",
    "                else:\n",
    "                    d[label] *= prob(prob_table[i][label])\n",
    "                    \n",
    "                    \n",
    "        else:\n",
    "            \n",
    "            \n",
    "            for label in d:\n",
    "                \n",
    "                if prob(prob_table[i][label]) == 1:\n",
    "                    \n",
    "                    prob_table[i][label][0] += 1\n",
    "                    prob_table[i][label][1] += 2\n",
    "                    d[label] *= (1 - prob(prob_table[i][label]))\n",
    "                    \n",
    "                    \n",
    "                else:\n",
    "                    d[label] *= (1 - prob(prob_table[i][label]))\n",
    "                    \n",
    "                \n",
    "    denominator = 0\n",
    "    for label in d:\n",
    "        denominator += d[label]*prior_prob(label)\n",
    "    \n",
    "    \n",
    "    for label in d:\n",
    "        d[label] = (d[label]*prior_prob(label) / denominator)\n",
    "    \n",
    "    \n",
    "    return [label for label in d.keys() if d[label] == max(d.values())][0]\n",
    "    \n",
    "    "
   ]
  },
  {
   "cell_type": "code",
   "execution_count": 94,
   "metadata": {},
   "outputs": [
    {
     "name": "stdout",
     "output_type": "stream",
     "text": [
      "Confusion Matrix\n",
      "\n",
      "[[33, 0, 0, 0, 0, 1, 0, 0, 0, 0], [0, 28, 0, 0, 0, 0, 0, 1, 4, 1], [0, 2, 32, 0, 0, 0, 0, 0, 0, 0], [0, 0, 0, 34, 0, 0, 0, 2, 0, 3], [0, 0, 0, 0, 26, 0, 0, 3, 1, 0], [0, 0, 0, 0, 0, 33, 1, 1, 1, 2], [1, 0, 0, 0, 0, 0, 45, 0, 0, 0], [0, 0, 0, 0, 1, 0, 0, 30, 1, 0], [0, 3, 1, 0, 0, 0, 0, 0, 27, 2], [0, 0, 0, 0, 0, 1, 0, 1, 1, 25]]\n",
      "\n",
      "Accuracy of the data:  0.8994252873563219\n"
     ]
    }
   ],
   "source": [
    "#splitting the test data\n",
    "x_test_data = [line.rstrip('\\n').split(',')[:-1] for line in test_data]\n",
    "y_test_label = [line.rstrip('\\n').split(',')[-1] for line in test_data]\n",
    "\n",
    "x_test_data = np.array(x_test_data).astype(np.int32)\n",
    "y_test_label = np.array(y_test_label).astype(np.int32)\n",
    "\n",
    "#print('x Test data point\\n')\n",
    "#print(x_test_data)\n",
    "\n",
    "#print('\\ny Test label\\n')\n",
    "#print(y_test_label)\n",
    "\n",
    "predicted_class = list()\n",
    "\n",
    "for vec in x_test_data:\n",
    "    predicted_class.append(Predicted_class(vec))\n",
    "\n",
    "#print(predicted_class)\n",
    "\n",
    "#computing confusion matrix\n",
    "class_labels = [0, 1, 2, 3, 4, 5, 6, 7, 8, 9]\n",
    "confusion_matrix = list()\n",
    "\n",
    "count = 0\n",
    "\n",
    "for label1 in class_labels:\n",
    "    l = list()\n",
    "    for label2 in class_labels:\n",
    "        for i in range(len(y_test_label)):\n",
    "            if predicted_class[i] == label2 and y_test_label[i] == label1:\n",
    "                count += 1\n",
    "        l.append(count)\n",
    "        count = 0\n",
    "    confusion_matrix.append(l)\n",
    "    l = list()\n",
    "print('Confusion Matrix\\n')\n",
    "print(confusion_matrix)\n",
    "\n",
    "\n",
    "count_correct_match = 0\n",
    "for i in range(len(predicted_class)):\n",
    "    if predicted_class[i] == y_test_label[i]:\n",
    "        count_correct_match += 1\n",
    "\n",
    "print('\\nAccuracy of the data: ', count_correct_match / len(y_test_label))\n"
   ]
  },
  {
   "cell_type": "code",
   "execution_count": null,
   "metadata": {},
   "outputs": [],
   "source": []
  }
 ],
 "metadata": {
  "kernelspec": {
   "display_name": "Python 3",
   "language": "python",
   "name": "python3"
  },
  "language_info": {
   "codemirror_mode": {
    "name": "ipython",
    "version": 3
   },
   "file_extension": ".py",
   "mimetype": "text/x-python",
   "name": "python",
   "nbconvert_exporter": "python",
   "pygments_lexer": "ipython3",
   "version": "3.7.4"
  }
 },
 "nbformat": 4,
 "nbformat_minor": 2
}
