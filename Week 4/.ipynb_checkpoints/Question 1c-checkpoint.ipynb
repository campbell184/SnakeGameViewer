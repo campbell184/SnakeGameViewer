{
 "cells": [
  {
   "cell_type": "markdown",
   "metadata": {},
   "source": [
    "# Machine Learning Lab for Tutorial 3"
   ]
  },
  {
   "cell_type": "markdown",
   "metadata": {},
   "source": [
    "## Question 1"
   ]
  },
  {
   "cell_type": "markdown",
   "metadata": {},
   "source": [
    "##### We will look at using Na¨ıve Bayes (NB) to do sentiment analysis – determining if some text has positive or negative sentiment. The file simple-food-reviews.txt contains 18 simple reviews for a restaurant. Each line of the file starts with either a 1 or a -1, representing a positive or negative label."
   ]
  },
  {
   "cell_type": "markdown",
   "metadata": {},
   "source": [
    "### Question 1c"
   ]
  },
  {
   "cell_type": "markdown",
   "metadata": {},
   "source": [
    "##### Repeat step 1(a) without Laplace smoothing. Report your results. What do you notice?"
   ]
  },
  {
   "cell_type": "code",
   "execution_count": 19,
   "metadata": {},
   "outputs": [],
   "source": [
    "import numpy as np"
   ]
  },
  {
   "cell_type": "code",
   "execution_count": 20,
   "metadata": {},
   "outputs": [],
   "source": [
    "#store the data in a matrix\n",
    "file = open('simple-food-reviews.txt')\n",
    "line = file.readline()\n",
    "\n",
    "full_data = list()\n",
    "\n",
    "while(line):\n",
    "    full_data.append(line.rstrip('\\n'))\n",
    "    line = file.readline()"
   ]
  },
  {
   "cell_type": "code",
   "execution_count": 21,
   "metadata": {},
   "outputs": [],
   "source": [
    "#select random 12 rows from full_data for training data\n",
    "train_data = np.random.choice(full_data, 12, replace=False)\n",
    "\n",
    "#testing data\n",
    "test_data = [line for line in full_data if line not in train_data]\n",
    "\n",
    "#print('Train data:\\n')\n",
    "#print(train_data)\n",
    "\n",
    "#print('\\nTest data:\\n')\n",
    "#print(test_data)"
   ]
  },
  {
   "cell_type": "code",
   "execution_count": 22,
   "metadata": {},
   "outputs": [],
   "source": [
    "#split the traing data into x_train_data and y_train_label\n",
    "x_train_data = [line.split(' ')[1:] for line in train_data]\n",
    "y_train_label = [line.split(' ')[0] for line in train_data]\n",
    "\n",
    "#print('x Train data:\\n')\n",
    "#print(x_train_data)\n",
    "\n",
    "#print('\\ny Train label:\\n')\n",
    "#print(y_train_label)"
   ]
  },
  {
   "cell_type": "code",
   "execution_count": 23,
   "metadata": {},
   "outputs": [],
   "source": [
    "#selects all the features of every sentence in the training data\n",
    "features = list()\n",
    "\n",
    "for vec in x_train_data:\n",
    "    for word in vec:\n",
    "        if word not in features:\n",
    "            features.append(word)\n",
    "#print('All the Features of every data_point\\n')\n",
    "#print(features)"
   ]
  },
  {
   "cell_type": "code",
   "execution_count": 24,
   "metadata": {},
   "outputs": [],
   "source": [
    "#Prior Probability function\n",
    "def prior_prob(x):\n",
    "    number_of_x = 0\n",
    "    for label in y_train_label:\n",
    "        if label == x:\n",
    "            number_of_x += 1\n",
    "    return number_of_x/len(y_train_label)"
   ]
  },
  {
   "cell_type": "code",
   "execution_count": 25,
   "metadata": {},
   "outputs": [],
   "source": [
    "#Conditional probability of x given that is class c\n",
    "def con_prob(x, c):\n",
    "    count = 0\n",
    "    number_of_x_and_c = 0\n",
    "    number_of_c = 0\n",
    "    \n",
    "    for vec in x_train_data:\n",
    "        if y_train_label[count] == c:\n",
    "            if x in vec:\n",
    "                number_of_x_and_c += 1\n",
    "            number_of_c += 1\n",
    "        count += 1\n",
    "    return [number_of_x_and_c, number_of_c]\n",
    "\n",
    "\n",
    "\n",
    "#Probability function\n",
    "#inputs: 1). list l\n",
    "def prob(l):\n",
    "    probability = l[0] / l[1]\n",
    "    return probability\n",
    "\n",
    "\n",
    "#Constructing Probability Table\n",
    "#prob_table stores ['word', con_prob(word, -1), con_prob(word, 1)]\n",
    "prob_table = list()\n",
    "for word in features:\n",
    "    prob_table.append([word, con_prob(word, '-1'), con_prob(word, '1')])\n",
    "\n",
    "#print(prob_table)"
   ]
  },
  {
   "cell_type": "code",
   "execution_count": 26,
   "metadata": {},
   "outputs": [],
   "source": [
    "#The function Predicted_Class returns the class of the Testing data_point given using the NB Model\n",
    "#inputs: data point array\n",
    "def Predicted_Class(data_point):\n",
    "    \n",
    "    prob_of_x_given_neg = 1\n",
    "    prob_of_x_given_pos = 1\n",
    "    \n",
    "    # word exists in features\n",
    "    for word in features:\n",
    "        Index = features.index(word)\n",
    "        \n",
    "        # word is the data_Point vector\n",
    "        if word in data_point:\n",
    "            # negative class\n",
    "            prob_of_x_given_neg *= prob(prob_table[Index][1])\n",
    "            prob_of_x_given_pos *= prob(prob_table[Index][2])\n",
    "        \n",
    "        # word not in the data_point vector\n",
    "        else:\n",
    "            # negative class\n",
    "            prob_of_x_given_neg *= (1 - prob(prob_table[Index][1]))\n",
    "            prob_of_x_given_pos *= (1 - prob(prob_table[Index][2]))\n",
    "    \n",
    "    \n",
    "    denominator = (prob_of_x_given_neg * prior_prob('-1')) + (prob_of_x_given_pos * prior_prob('1'))\n",
    "    \n",
    "    if denominator == 0:\n",
    "        return 'imposiible'\n",
    "    \n",
    "    else:\n",
    "        \n",
    "        #calculate the probability of class -1 given x\n",
    "        prob_of_neg_given_x = (prob_of_x_given_neg * prior_prob('-1')) / denominator\n",
    "\n",
    "\n",
    "        #calculate the probability of class 1 given x\n",
    "        prob_of_pos_given_x = (prob_of_x_given_pos * prior_prob('1')) / denominator\n",
    "\n",
    "\n",
    "        #return the max of the two probabilities\n",
    "        if prob_of_neg_given_x >= prob_of_pos_given_x:\n",
    "            return '-1'\n",
    "\n",
    "        else:\n",
    "            return '1'\n"
   ]
  },
  {
   "cell_type": "code",
   "execution_count": 27,
   "metadata": {},
   "outputs": [
    {
     "name": "stdout",
     "output_type": "stream",
     "text": [
      "Confusion Matrix\n",
      "\n",
      "[[0, 2], [0, 0]]\n",
      "\n",
      "Accuracy of the data:  0.0\n"
     ]
    }
   ],
   "source": [
    "#Testing the model of NB\n",
    "x_test_data = [line.split(' ')[1:] for line in test_data]\n",
    "y_test_label = [line.split(' ')[0] for line in test_data]\n",
    "y_Predicted_label = list()\n",
    "#print(y_test_label)\n",
    "\n",
    "for vec in x_test_data:\n",
    "    y_Predicted_label.append(Predicted_Class(vec))\n",
    "#print(y_Predicted_label)\n",
    "\n",
    "\n",
    "#computing confusion matrix\n",
    "class_labels = ['-1', '1']\n",
    "confusion_matrix = list()\n",
    "\n",
    "count = 0\n",
    "\n",
    "for label1 in class_labels:\n",
    "    l = list()\n",
    "    for label2 in class_labels:\n",
    "        for i in range(len(y_test_label)):\n",
    "            if y_Predicted_label[i] == label2 and y_test_label[i] == label1:\n",
    "                count += 1\n",
    "        l.append(count)\n",
    "        count = 0\n",
    "    confusion_matrix.append(l)\n",
    "    l = list()\n",
    "print('Confusion Matrix\\n')\n",
    "print(confusion_matrix)\n",
    "\n",
    "\n",
    "\n",
    "count, count_correct_match = 0, 0\n",
    "for label in y_Predicted_label:\n",
    "    if label == y_test_label[count]:\n",
    "        count_correct_match += 1\n",
    "    count += 1\n",
    "    \n",
    "\n",
    "print('\\nAccuracy of the data: ', count_correct_match / count)"
   ]
  },
  {
   "cell_type": "code",
   "execution_count": null,
   "metadata": {},
   "outputs": [],
   "source": []
  }
 ],
 "metadata": {
  "kernelspec": {
   "display_name": "Python 3",
   "language": "python",
   "name": "python3"
  },
  "language_info": {
   "codemirror_mode": {
    "name": "ipython",
    "version": 3
   },
   "file_extension": ".py",
   "mimetype": "text/x-python",
   "name": "python",
   "nbconvert_exporter": "python",
   "pygments_lexer": "ipython3",
   "version": "3.7.4"
  }
 },
 "nbformat": 4,
 "nbformat_minor": 2
}
